{
 "cells": [
  {
   "cell_type": "code",
   "execution_count": 3,
   "metadata": {},
   "outputs": [
    {
     "name": "stderr",
     "output_type": "stream",
     "text": [
      "Using TensorFlow backend.\n"
     ]
    }
   ],
   "source": [
    "import keras \n",
    "from keras.datasets import mnist \n",
    "from keras.models import Sequential \n",
    "from keras.layers import Dense, Dropout, Flatten \n",
    "from keras.layers import Conv2D, MaxPooling2D\n",
    "# Split the data between train and test (x_train, y_train), (x_test, y_test) = mnist.load_data() print(x_train.shape)\n",
    "# bc the expected shape is in 4d x_train = x_train.reshape(60000,28,28,1) x_test = x_test.reshape(10000,28,28,1) print(x_train.shape)\n",
    "# bc the expected y is binary class matrices y_train = keras.utils.to_categorical(y_train, 10) y_test = keras.utils.to_categorical(y_test, 10)"
   ]
  },
  {
   "cell_type": "code",
   "execution_count": 5,
   "metadata": {},
   "outputs": [
    {
     "name": "stdout",
     "output_type": "stream",
     "text": [
      "Downloading data from https://s3.amazonaws.com/img-datasets/mnist.npz\n",
      "11493376/11490434 [==============================] - 3s 0us/step\n",
      "(60000, 28, 28)\n"
     ]
    }
   ],
   "source": [
    "(x_train, y_train), (x_test, y_test) = mnist.load_data()\n",
    "print(x_train.shape)"
   ]
  },
  {
   "cell_type": "code",
   "execution_count": 6,
   "metadata": {},
   "outputs": [
    {
     "name": "stdout",
     "output_type": "stream",
     "text": [
      "(60000, 28, 28, 1)\n"
     ]
    }
   ],
   "source": [
    "x_train = x_train.reshape(60000,28,28,1) \n",
    "x_test = x_test.reshape(10000,28,28,1) \n",
    "print(x_train.shape)\n",
    "# bc the expected y is binary class matrices \n",
    "y_train = keras.utils.to_categorical(y_train, 10) \n",
    "y_test = keras.utils.to_categorical(y_test, 10)"
   ]
  },
  {
   "cell_type": "code",
   "execution_count": 7,
   "metadata": {},
   "outputs": [],
   "source": [
    "CNNmodel = Sequential()\n",
    "CNNmodel.add(Conv2D(32, kernel_size=(3, 3), activation='relu', input_shape=(28, 28, 1))) \n",
    "CNNmodel.add(Conv2D(64, (3, 3), activation='relu'))\n",
    "CNNmodel.add(MaxPooling2D(pool_size=(2, 2))) \n",
    "CNNmodel.add(Dropout(0.25))\n",
    "CNNmodel.add(Flatten()) \n",
    "CNNmodel.add(Dense(128, activation='relu')) \n",
    "CNNmodel.add(Dropout(0.5)) \n",
    "CNNmodel.add(Dense(10, activation='softmax'))\n",
    "CNNmodel.compile(loss=keras.losses.categorical_crossentropy, optimizer=keras.optimizers.Adadelta(), metrics=['accuracy'])"
   ]
  },
  {
   "cell_type": "code",
   "execution_count": 8,
   "metadata": {},
   "outputs": [
    {
     "name": "stdout",
     "output_type": "stream",
     "text": [
      "Train on 60000 samples, validate on 10000 samples\n",
      "Epoch 1/1\n",
      "60000/60000 [==============================] - 189s 3ms/step - loss: 0.9500 - acc: 0.8888 - val_loss: 0.0769 - val_acc: 0.9777\n",
      "10000/10000 [==============================] - 8s 804us/step\n",
      "Test accuracy: 0.9777\n"
     ]
    }
   ],
   "source": [
    "## model fit \n",
    "CNNmodel.fit(x_train, y_train, validation_data=(x_test, y_test))\n",
    "##model performance \n",
    "performance = CNNmodel.evaluate(x_test, y_test) \n",
    "print('Test accuracy:', performance[1])"
   ]
  },
  {
   "cell_type": "code",
   "execution_count": null,
   "metadata": {},
   "outputs": [],
   "source": []
  }
 ],
 "metadata": {
  "kernelspec": {
   "display_name": "Python 3",
   "language": "python",
   "name": "python3"
  },
  "language_info": {
   "codemirror_mode": {
    "name": "ipython",
    "version": 3
   },
   "file_extension": ".py",
   "mimetype": "text/x-python",
   "name": "python",
   "nbconvert_exporter": "python",
   "pygments_lexer": "ipython3",
   "version": "3.6.8"
  }
 },
 "nbformat": 4,
 "nbformat_minor": 2
}
